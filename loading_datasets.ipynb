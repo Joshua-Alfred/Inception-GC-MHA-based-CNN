{
  "nbformat": 4,
  "nbformat_minor": 0,
  "metadata": {
    "colab": {
      "provenance": []
    },
    "kernelspec": {
      "name": "python3",
      "display_name": "Python 3"
    },
    "language_info": {
      "name": "python"
    }
  },
  "cells": [
    {
      "cell_type": "markdown",
      "source": [
        "#Unzipping the datasets prior to training/testing"
      ],
      "metadata": {
        "id": "VQBmdsbGop_O"
      }
    },
    {
      "cell_type": "markdown",
      "source": [
        "### Importing necessary libraries\n"
      ],
      "metadata": {
        "id": "e4pgruRXolwH"
      }
    },
    {
      "cell_type": "code",
      "source": [
        "import torchvision\n",
        "from torch.utils.data import DataLoader\n",
        "import torch\n",
        "import torch.nn as nn\n",
        "from torchvision import transforms\n",
        "import pickle"
      ],
      "metadata": {
        "id": "2hCm10hFok7n"
      },
      "execution_count": 1,
      "outputs": []
    },
    {
      "cell_type": "code",
      "source": [
        "from google.colab import drive\n",
        "drive.mount('/content/gdrive', force_remount=True)"
      ],
      "metadata": {
        "colab": {
          "base_uri": "https://localhost:8080/"
        },
        "id": "5haHHee-F36t",
        "outputId": "ae611645-215e-4ae6-8477-78baa661aea6"
      },
      "execution_count": 2,
      "outputs": [
        {
          "output_type": "stream",
          "name": "stdout",
          "text": [
            "Mounted at /content/gdrive\n"
          ]
        }
      ]
    },
    {
      "cell_type": "code",
      "source": [
        "# Batch size\n",
        "batch_size=32"
      ],
      "metadata": {
        "id": "ihLcjEWXpoNW"
      },
      "execution_count": 3,
      "outputs": []
    },
    {
      "cell_type": "code",
      "source": [
        "# Transformer to tensor\n",
        "transformer=transforms.Compose([\n",
        "    transforms.Resize((256,256)),\n",
        "    transforms.ToTensor(),\n",
        "])"
      ],
      "metadata": {
        "id": "Dx-_4Fo5tDxl"
      },
      "execution_count": 4,
      "outputs": []
    },
    {
      "cell_type": "markdown",
      "source": [
        "## Unzipping the augmented BRACOL datasets (training and validation)"
      ],
      "metadata": {
        "id": "KvNlR37CnZYQ"
      }
    },
    {
      "cell_type": "code",
      "source": [
        "!pip install patool\n",
        "import patoolib"
      ],
      "metadata": {
        "colab": {
          "base_uri": "https://localhost:8080/"
        },
        "id": "6rN3tnK8nzVS",
        "outputId": "7915461b-7752-4722-cbff-2fe5bc3af7e4"
      },
      "execution_count": 5,
      "outputs": [
        {
          "output_type": "stream",
          "name": "stdout",
          "text": [
            "Looking in indexes: https://pypi.org/simple, https://us-python.pkg.dev/colab-wheels/public/simple/\n",
            "Collecting patool\n",
            "  Downloading patool-1.12-py2.py3-none-any.whl (77 kB)\n",
            "\u001b[2K     \u001b[90m━━━━━━━━━━━━━━━━━━━━━━━━━━━━━━━━━━━━━━━━\u001b[0m \u001b[32m77.5/77.5 kB\u001b[0m \u001b[31m2.9 MB/s\u001b[0m eta \u001b[36m0:00:00\u001b[0m\n",
            "\u001b[?25hInstalling collected packages: patool\n",
            "Successfully installed patool-1.12\n"
          ]
        }
      ]
    },
    {
      "cell_type": "code",
      "execution_count": 6,
      "metadata": {
        "id": "gZn3DpyBDkCr"
      },
      "outputs": [],
      "source": [
        "zip_path = '/content/gdrive/MyDrive/BRACOL_split_augmented.zip'"
      ]
    },
    {
      "cell_type": "code",
      "source": [
        "patoolib.extract_archive(zip_path, outdir=\"/content\")"
      ],
      "metadata": {
        "id": "3_mLvkvpJPsG",
        "colab": {
          "base_uri": "https://localhost:8080/",
          "height": 90
        },
        "outputId": "faab049d-b32d-4ba9-9b0f-cb416ce251c4"
      },
      "execution_count": 7,
      "outputs": [
        {
          "output_type": "stream",
          "name": "stdout",
          "text": [
            "patool: Extracting /content/gdrive/MyDrive/BRACOL_split_augmented.zip ...\n",
            "patool: running /usr/bin/7z x -o/content -- /content/gdrive/MyDrive/BRACOL_split_augmented.zip\n",
            "patool: ... /content/gdrive/MyDrive/BRACOL_split_augmented.zip extracted to `/content'.\n"
          ]
        },
        {
          "output_type": "execute_result",
          "data": {
            "text/plain": [
              "'/content'"
            ],
            "application/vnd.google.colaboratory.intrinsic+json": {
              "type": "string"
            }
          },
          "metadata": {},
          "execution_count": 7
        }
      ]
    },
    {
      "cell_type": "code",
      "source": [
        "def load_dataset(d_path):\n",
        "    dataset_manual = torchvision.datasets.ImageFolder(d_path, transform=transformer)\n",
        "    print(\"Follwing classes are there : \\n\",dataset_manual.classes)\n",
        "    train_loader_manual = torch.utils.data.DataLoader(dataset_manual)\n",
        "    return train_loader_manual"
      ],
      "metadata": {
        "id": "PeKOt1xMGy_V"
      },
      "execution_count": 8,
      "outputs": []
    },
    {
      "cell_type": "code",
      "source": [
        "train_dataset = load_dataset('/content/Dataset/training_dataset')\n",
        "val_dataset = load_dataset('/content/Dataset/validation_dataset')"
      ],
      "metadata": {
        "colab": {
          "base_uri": "https://localhost:8080/"
        },
        "id": "2u3hWeFhG6Ye",
        "outputId": "d6533848-6664-4a91-b065-bd09c75b3ffe"
      },
      "execution_count": 9,
      "outputs": [
        {
          "output_type": "stream",
          "name": "stdout",
          "text": [
            "Follwing classes are there : \n",
            " ['Cercospora', 'Healthy', 'Miner', 'Phoma', 'Rust']\n",
            "Follwing classes are there : \n",
            " ['Cercospora', 'Healthy', 'Miner', 'Phoma', 'Rust']\n"
          ]
        }
      ]
    },
    {
      "cell_type": "code",
      "source": [
        "train_dataset=train_dataset.dataset\n",
        "val_dataset=val_dataset.dataset"
      ],
      "metadata": {
        "id": "-vHWSNpGGLpS"
      },
      "execution_count": 10,
      "outputs": []
    },
    {
      "cell_type": "code",
      "source": [
        "train_loader = DataLoader(train_dataset, batch_size=batch_size, num_workers=0, shuffle=True)\n",
        "val_loader = DataLoader(val_dataset, batch_size=batch_size, num_workers=0, shuffle=True)"
      ],
      "metadata": {
        "id": "5iWCtJlepeKw"
      },
      "execution_count": 11,
      "outputs": []
    },
    {
      "cell_type": "code",
      "source": [
        "print('Train Set- ' + str(len(train_dataset)) + ' images in ' + str(len(train_loader)) +' batches')\n",
        "print('Validation Set - ' + str(len(val_dataset)) + ' images in ' + str(len(val_loader)) + ' batches' )"
      ],
      "metadata": {
        "colab": {
          "base_uri": "https://localhost:8080/"
        },
        "id": "7mYyG9jmpeG4",
        "outputId": "912905a6-873b-4e1a-eff4-8d910fda2c0e"
      },
      "execution_count": 12,
      "outputs": [
        {
          "output_type": "stream",
          "name": "stdout",
          "text": [
            "Train Set- 5020 images in 157 batches\n",
            "Validation Set - 2500 images in 79 batches\n"
          ]
        }
      ]
    },
    {
      "cell_type": "code",
      "source": [
        "for images, labels in train_loader:\n",
        "    print('Image batch dimensions:', images.shape)\n",
        "    print('Image label dimensions:', labels.shape)\n",
        "    break"
      ],
      "metadata": {
        "colab": {
          "base_uri": "https://localhost:8080/"
        },
        "id": "Qq-p75k4p2oa",
        "outputId": "62978986-a46a-4317-e94c-9bfd4e8ec456"
      },
      "execution_count": 13,
      "outputs": [
        {
          "output_type": "stream",
          "name": "stdout",
          "text": [
            "Image batch dimensions: torch.Size([32, 3, 256, 256])\n",
            "Image label dimensions: torch.Size([32])\n"
          ]
        }
      ]
    },
    {
      "cell_type": "code",
      "source": [
        "for images, labels in val_loader:\n",
        "    print('Image batch dimensions:', images.shape)\n",
        "    print('Image label dimensions:', labels.shape)\n",
        "    break"
      ],
      "metadata": {
        "colab": {
          "base_uri": "https://localhost:8080/"
        },
        "id": "kamKU1PPpwk4",
        "outputId": "6ec53fbc-db29-4600-a60a-8ac17347514b"
      },
      "execution_count": 14,
      "outputs": [
        {
          "output_type": "stream",
          "name": "stdout",
          "text": [
            "Image batch dimensions: torch.Size([32, 3, 256, 256])\n",
            "Image label dimensions: torch.Size([32])\n"
          ]
        }
      ]
    },
    {
      "cell_type": "code",
      "source": [
        "for images, labels in train_loader:\n",
        "    print (labels)  # printing to observe the labels present in one batch of the training dataloader object\n",
        "    break"
      ],
      "metadata": {
        "colab": {
          "base_uri": "https://localhost:8080/"
        },
        "id": "M-ujpctBp4nn",
        "outputId": "debc5805-fb7f-47dd-ae72-a0bdabbc7ed8"
      },
      "execution_count": 15,
      "outputs": [
        {
          "output_type": "stream",
          "name": "stdout",
          "text": [
            "tensor([2, 0, 4, 1, 2, 0, 2, 3, 4, 0, 1, 4, 3, 3, 3, 2, 3, 3, 2, 4, 0, 4, 3, 1,\n",
            "        3, 4, 3, 1, 3, 4, 2, 1])\n"
          ]
        }
      ]
    },
    {
      "cell_type": "code",
      "source": [
        "for images, labels in val_loader:\n",
        "    print (labels)  # printing to observe the labels present in one batch of the training dataloader object\n",
        "    break"
      ],
      "metadata": {
        "colab": {
          "base_uri": "https://localhost:8080/"
        },
        "id": "LnYDXR4NuHOf",
        "outputId": "c4e14b56-53d8-414f-b1b3-6e2771dfb58b"
      },
      "execution_count": 16,
      "outputs": [
        {
          "output_type": "stream",
          "name": "stdout",
          "text": [
            "tensor([0, 2, 4, 4, 3, 2, 4, 2, 4, 1, 2, 0, 1, 0, 4, 0, 4, 4, 4, 0, 0, 3, 4, 4,\n",
            "        3, 3, 3, 1, 0, 1, 1, 0])\n"
          ]
        }
      ]
    },
    {
      "cell_type": "markdown",
      "source": [
        "### Saving the dataloaders as pickle files"
      ],
      "metadata": {
        "id": "m_FrloUuquHN"
      }
    },
    {
      "cell_type": "code",
      "source": [
        "with open('train_dloader.pkl','wb') as f:\n",
        "    pickle.dump(train_loader, f)"
      ],
      "metadata": {
        "id": "AwqmpC6nqFdm"
      },
      "execution_count": 16,
      "outputs": []
    },
    {
      "cell_type": "code",
      "source": [
        "with open('val_dloader.pkl','wb') as f:\n",
        "    pickle.dump(val_loader, f)"
      ],
      "metadata": {
        "id": "TG57CLHuqqNw"
      },
      "execution_count": 16,
      "outputs": []
    },
    {
      "cell_type": "markdown",
      "source": [
        "## Unzipping the test dataset (unaugmented)"
      ],
      "metadata": {
        "id": "7jWV04_ApASn"
      }
    },
    {
      "cell_type": "code",
      "source": [
        "test_zip_path = '/content/gdrive/MyDrive/new_test.zip'"
      ],
      "metadata": {
        "id": "kiFDOTOYpMjY"
      },
      "execution_count": 17,
      "outputs": []
    },
    {
      "cell_type": "code",
      "source": [
        "patoolib.extract_archive(test_zip_path, outdir=\"/content\")"
      ],
      "metadata": {
        "colab": {
          "base_uri": "https://localhost:8080/",
          "height": 90
        },
        "id": "NCP76PBupENe",
        "outputId": "d2fe6714-9a29-47ea-a122-d88088752e86"
      },
      "execution_count": 18,
      "outputs": [
        {
          "output_type": "stream",
          "name": "stdout",
          "text": [
            "patool: Extracting /content/gdrive/MyDrive/new_test.zip ...\n",
            "patool: running /usr/bin/7z x -o/content -- /content/gdrive/MyDrive/new_test.zip\n",
            "patool: ... /content/gdrive/MyDrive/new_test.zip extracted to `/content'.\n"
          ]
        },
        {
          "output_type": "execute_result",
          "data": {
            "text/plain": [
              "'/content'"
            ],
            "application/vnd.google.colaboratory.intrinsic+json": {
              "type": "string"
            }
          },
          "metadata": {},
          "execution_count": 18
        }
      ]
    },
    {
      "cell_type": "code",
      "source": [
        "test_dataset = load_dataset('/content/new_test')"
      ],
      "metadata": {
        "colab": {
          "base_uri": "https://localhost:8080/"
        },
        "id": "YLFrAP1jpOUE",
        "outputId": "ae9c61b5-1bbe-420c-b894-1e09e099ccf3"
      },
      "execution_count": 19,
      "outputs": [
        {
          "output_type": "stream",
          "name": "stdout",
          "text": [
            "Follwing classes are there : \n",
            " ['Cercospora', 'Healthy', 'Miner', 'Phoma', 'Rust']\n"
          ]
        }
      ]
    },
    {
      "cell_type": "code",
      "source": [
        "test_dataset=test_dataset.dataset"
      ],
      "metadata": {
        "id": "FG9zzXJgrDQ8"
      },
      "execution_count": 20,
      "outputs": []
    },
    {
      "cell_type": "code",
      "source": [
        "test_loader = DataLoader(test_dataset, batch_size=batch_size, num_workers=0, shuffle=True)"
      ],
      "metadata": {
        "id": "t5XsIDQ3rHcP"
      },
      "execution_count": 21,
      "outputs": []
    },
    {
      "cell_type": "code",
      "source": [
        "print('Testing Set - ' + str(len(test_dataset)) + ' images in ' + str(len(test_loader)) + ' batches' )"
      ],
      "metadata": {
        "colab": {
          "base_uri": "https://localhost:8080/"
        },
        "id": "iqonmhhnrJiV",
        "outputId": "226cdf84-8506-4c43-ad52-529eb4aea7da"
      },
      "execution_count": 22,
      "outputs": [
        {
          "output_type": "stream",
          "name": "stdout",
          "text": [
            "Testing Set - 350 images in 11 batches\n"
          ]
        }
      ]
    },
    {
      "cell_type": "code",
      "source": [
        "for images, labels in test_loader:\n",
        "    print('Image batch dimensions:', images.shape)\n",
        "    print('Image label dimensions:', labels.shape)\n",
        "    break"
      ],
      "metadata": {
        "colab": {
          "base_uri": "https://localhost:8080/"
        },
        "id": "NXZ-XDS7rPlA",
        "outputId": "b94536a5-ea9d-4113-f833-853050ef1524"
      },
      "execution_count": 23,
      "outputs": [
        {
          "output_type": "stream",
          "name": "stdout",
          "text": [
            "Image batch dimensions: torch.Size([32, 3, 256, 256])\n",
            "Image label dimensions: torch.Size([32])\n"
          ]
        }
      ]
    },
    {
      "cell_type": "code",
      "source": [
        "for images, labels in test_loader:\n",
        "    print (labels)  # printing to observe the labels present in one batch of the training dataloader object\n",
        "    break"
      ],
      "metadata": {
        "colab": {
          "base_uri": "https://localhost:8080/"
        },
        "id": "pU6eW0gUrSwx",
        "outputId": "edd9730b-2f21-4da3-e692-d20d9fbe0371"
      },
      "execution_count": 24,
      "outputs": [
        {
          "output_type": "stream",
          "name": "stdout",
          "text": [
            "tensor([4, 1, 2, 0, 0, 0, 2, 4, 4, 2, 3, 1, 0, 4, 2, 2, 0, 3, 2, 3, 0, 0, 3, 1,\n",
            "        4, 4, 3, 3, 3, 1, 0, 2])\n"
          ]
        }
      ]
    },
    {
      "cell_type": "markdown",
      "source": [
        "### Saving the test dataloader using pickle"
      ],
      "metadata": {
        "id": "0IrnBxQIrTZZ"
      }
    },
    {
      "cell_type": "code",
      "source": [
        "with open('test_dloader.pkl','wb') as f:\n",
        "    pickle.dump(test_loader, f)"
      ],
      "metadata": {
        "id": "Ro9i_iKBrVwm"
      },
      "execution_count": 24,
      "outputs": []
    }
  ]
}